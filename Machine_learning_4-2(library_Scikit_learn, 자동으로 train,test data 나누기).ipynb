{
 "cells": [
  {
   "cell_type": "markdown",
   "metadata": {
    "collapsed": true
   },
   "source": [
    "# Scikit_learn 라이브러리 활용"
   ]
  },
  {
   "cell_type": "markdown",
   "metadata": {
    "collapsed": true
   },
   "source": [
    "## 1. XOR 연산을 통한 간단한 학습"
   ]
  },
  {
   "cell_type": "code",
   "execution_count": 2,
   "metadata": {
    "collapsed": true
   },
   "outputs": [],
   "source": [
    "from sklearn import svm"
   ]
  },
  {
   "cell_type": "markdown",
   "metadata": {},
   "source": [
    "### 1-1) xor 데이터 입력"
   ]
  },
  {
   "cell_type": "code",
   "execution_count": 5,
   "metadata": {
    "collapsed": true
   },
   "outputs": [],
   "source": [
    "##1)입력값 [명제1,명제2,result]\n",
    "\n",
    "\n",
    "xor_data =  [\n",
    "    [0,0,0],\n",
    "    [1,0,1],\n",
    "    [0,1,1],\n",
    "    [1,1,0]\n",
    "]\n"
   ]
  },
  {
   "cell_type": "markdown",
   "metadata": {},
   "source": [
    "### 1-2) xor 데이터를 종속과 독립으로 나누기"
   ]
  },
  {
   "cell_type": "code",
   "execution_count": 10,
   "metadata": {},
   "outputs": [
    {
     "name": "stdout",
     "output_type": "stream",
     "text": [
      "data : [[0, 0], [1, 0], [0, 1], [1, 1]] \n",
      " label : [0, 1, 1, 0]\n"
     ]
    }
   ],
   "source": [
    "##2)xor은 기본적으로 지도학습 이다.\n",
    "    # 그럼으로 x y를 나누어서 학습시켜야한다.\n",
    "    # x = [두 명제 쌍]\n",
    "    # y = [참거짓]\n",
    "\n",
    "#### 데이터를 나눌때 쓰는 기법이다 및에 쓰는 기법 써먹어보자\n",
    "data = []\n",
    "label = []\n",
    "for index in xor_data:\n",
    "    p = index[0]\n",
    "    q = index[1]\n",
    "    r = index[2]\n",
    "    data.append([p,q])\n",
    "    label.append(r)\n",
    "print(\"data :\",data,\"\\n\",\"label :\",label)"
   ]
  },
  {
   "cell_type": "markdown",
   "metadata": {},
   "source": [
    "### 1-3) 데이터 학습시키기"
   ]
  },
  {
   "cell_type": "code",
   "execution_count": 12,
   "metadata": {},
   "outputs": [
    {
     "data": {
      "text/plain": [
       "SVC(C=1.0, cache_size=200, class_weight=None, coef0=0.0,\n",
       "  decision_function_shape=None, degree=3, gamma='auto', kernel='rbf',\n",
       "  max_iter=-1, probability=False, random_state=None, shrinking=True,\n",
       "  tol=0.001, verbose=False)"
      ]
     },
     "execution_count": 12,
     "metadata": {},
     "output_type": "execute_result"
    }
   ],
   "source": [
    "clf = svm.SVC()\n",
    "### fit 함수의 매개변수는 \"fit(x값,y값)\"형태로 한다\n",
    "clf.fit(data,label)\n",
    "clf"
   ]
  },
  {
   "cell_type": "markdown",
   "metadata": {},
   "source": [
    "### 1-4) 데이터 예측하기"
   ]
  },
  {
   "cell_type": "code",
   "execution_count": 15,
   "metadata": {},
   "outputs": [
    {
     "name": "stdout",
     "output_type": "stream",
     "text": [
      "예측결과 : [0 1 1 0]\n"
     ]
    }
   ],
   "source": [
    "### 여기서 예측값이란, data값( 즉 x 값을)주고 앞에서 학습한 데이터를 가지고 알고리즘을 돌려보는 것이다.\n",
    "\n",
    "pre = clf.predict(data)\n",
    "print(\"예측결과 :\",pre)"
   ]
  },
  {
   "cell_type": "markdown",
   "metadata": {},
   "source": [
    "### 1-5) 학습 알고리즘 검증하기"
   ]
  },
  {
   "cell_type": "code",
   "execution_count": 20,
   "metadata": {},
   "outputs": [
    {
     "name": "stdout",
     "output_type": "stream",
     "text": [
      "정답횟수 : 4 \n",
      "시행횟수 : 4 \n",
      "정답률 : 1.0\n"
     ]
    }
   ],
   "source": [
    "#### 위에서 예측한 결과가 앞에서 설정한 x,y 쌍과 일치하는지 확인하는 절차이다.\n",
    "### 검증 함수는 다음과 같이\n",
    "    ## \"앞의 쌍과 일치하는 횟수 / 전체 반복 횟수 \" 를 통해서 정답률을 측정한다.\n",
    "\n",
    "true = 0; total_action = 0\n",
    "## 한줄에 변수 2개를 설정하는 방법!!!\n",
    "    ## \"var_1 = []; var_2 = []\"\n",
    "    \n",
    "for idx,answer in enumerate(label):\n",
    "    if answer == pre[idx]:\n",
    "        true += 1\n",
    "    total_action += 1\n",
    "\n",
    "print(\"정답횟수 :\",true,\"\\n시행횟수 :\",total_action,\"\\n정답률 :\",true/total_action)\n"
   ]
  },
  {
   "cell_type": "markdown",
   "metadata": {},
   "source": [
    "#### +) etc"
   ]
  },
  {
   "cell_type": "code",
   "execution_count": 21,
   "metadata": {},
   "outputs": [
    {
     "name": "stderr",
     "output_type": "stream",
     "text": [
      "C:\\ProgramData\\Anaconda3\\lib\\site-packages\\sklearn\\utils\\validation.py:395: DeprecationWarning: Passing 1d arrays as data is deprecated in 0.17 and will raise ValueError in 0.19. Reshape your data either using X.reshape(-1, 1) if your data has a single feature or X.reshape(1, -1) if it contains a single sample.\n",
      "  DeprecationWarning)\n"
     ]
    },
    {
     "data": {
      "text/plain": [
       "array([0])"
      ]
     },
     "execution_count": 21,
     "metadata": {},
     "output_type": "execute_result"
    }
   ],
   "source": [
    "pre_2 = clf.predict([1,1])\n",
    "pre_2"
   ]
  },
  {
   "cell_type": "markdown",
   "metadata": {},
   "source": [
    "### 1-6) 검증하는 함수를 이용해서해보자"
   ]
  },
  {
   "cell_type": "code",
   "execution_count": 2,
   "metadata": {
    "collapsed": true
   },
   "outputs": [],
   "source": [
    "import pandas as pd\n",
    "from sklearn import svm,metrics"
   ]
  },
  {
   "cell_type": "code",
   "execution_count": 39,
   "metadata": {},
   "outputs": [
    {
     "data": {
      "text/html": [
       "<div>\n",
       "<style>\n",
       "    .dataframe thead tr:only-child th {\n",
       "        text-align: right;\n",
       "    }\n",
       "\n",
       "    .dataframe thead th {\n",
       "        text-align: left;\n",
       "    }\n",
       "\n",
       "    .dataframe tbody tr th {\n",
       "        vertical-align: top;\n",
       "    }\n",
       "</style>\n",
       "<table border=\"1\" class=\"dataframe\">\n",
       "  <thead>\n",
       "    <tr style=\"text-align: right;\">\n",
       "      <th></th>\n",
       "      <th>0</th>\n",
       "      <th>1</th>\n",
       "      <th>2</th>\n",
       "    </tr>\n",
       "  </thead>\n",
       "  <tbody>\n",
       "    <tr>\n",
       "      <th>0</th>\n",
       "      <td>0</td>\n",
       "      <td>0</td>\n",
       "      <td>0</td>\n",
       "    </tr>\n",
       "    <tr>\n",
       "      <th>1</th>\n",
       "      <td>1</td>\n",
       "      <td>0</td>\n",
       "      <td>1</td>\n",
       "    </tr>\n",
       "    <tr>\n",
       "      <th>2</th>\n",
       "      <td>0</td>\n",
       "      <td>1</td>\n",
       "      <td>1</td>\n",
       "    </tr>\n",
       "    <tr>\n",
       "      <th>3</th>\n",
       "      <td>1</td>\n",
       "      <td>1</td>\n",
       "      <td>0</td>\n",
       "    </tr>\n",
       "  </tbody>\n",
       "</table>\n",
       "</div>"
      ],
      "text/plain": [
       "   0  1  2\n",
       "0  0  0  0\n",
       "1  1  0  1\n",
       "2  0  1  1\n",
       "3  1  1  0"
      ]
     },
     "execution_count": 39,
     "metadata": {},
     "output_type": "execute_result"
    }
   ],
   "source": [
    "#### sklearn에 metrics 함수를 통해서 결과값 pre 와 기존의 label 값을 일치 확률을 구한다.\n",
    "    ## 그러기 위해서는 데이터를 \"data_Frame\" 형태로 변환 해야 한다.\n",
    "\n",
    "xor_input = [\n",
    "    [0,0,0],\n",
    "    [1,0,1],\n",
    "    [0,1,1],\n",
    "    [1,1,0]\n",
    "]\n",
    "\n",
    "xor_df = pd.DataFrame(xor_input)\n",
    "xor_df\n"
   ]
  },
  {
   "cell_type": "code",
   "execution_count": 44,
   "metadata": {},
   "outputs": [
    {
     "name": "stdout",
     "output_type": "stream",
     "text": [
      "정답률 : 1.0\n"
     ]
    }
   ],
   "source": [
    "xor_data = xor_df.ix[:,0:1]\n",
    "xor_label = xor_df.ix[:,2]\n",
    "\n",
    "clf_2 = svm.SVC()\n",
    "clf_2.fit(xor_data,xor_label)\n",
    "pre_2 = clf_2.predict(xor_data)\n",
    "\n",
    "#### 여기서 부터가 핵심 자동으로 일치를 확인해 주는 함수를 이용!!!!\n",
    "\n",
    "ac_score = metrics.accuracy_score(pre,xor_label)\n",
    "#ac_score = metrics.accuracy_score(xor_label,pre)\n",
    "#### 위의 pre 와 xor_label 의 순서를 뒤바꾸어서 입력해도 동일한 결과가 나온다!!!\n",
    "    ## 심지어 입력값을 잘못 주어서 당연히 한 값은 1보다 커야 하지만 그래도 동일한 결과가 나온다. \n",
    "    ## 이는 이 함수는 어떤것이 정답지이고, 어떤것이 시험 대상인지 안다는 것이다.\n",
    "print(\"정답률 :\",ac_score)"
   ]
  },
  {
   "cell_type": "markdown",
   "metadata": {},
   "source": [
    "## 2. 150개의 row 로 이루어진 붓꽃 품종 분류하기!"
   ]
  },
  {
   "cell_type": "code",
   "execution_count": 51,
   "metadata": {
    "collapsed": true
   },
   "outputs": [],
   "source": [
    "#### 한번에 여러개의 라이브러리 불러오는 방법 = \",\"을 통해서 구분자를 준다!\n",
    "\n",
    "from sklearn import svm,metrics\n",
    "import random,re"
   ]
  },
  {
   "cell_type": "markdown",
   "metadata": {
    "collapsed": true
   },
   "source": [
    "### 2-1) csv 데이터 읽어오기( 한줄씩 읽어오기)\n",
    "\n",
    "    자료 출처 : https://github.com/pydata/pandas/blob/master/pandas/tests/data/iris.csv\n",
    "    \n",
    "    "
   ]
  },
  {
   "cell_type": "code",
   "execution_count": 58,
   "metadata": {},
   "outputs": [
    {
     "name": "stdout",
     "output_type": "stream",
     "text": [
      "Debuggin_split(',') : ['SepalLength', 'SepalWidth', 'PetalLength', 'PetalWidth', 'Name']\n",
      "Debugging_lambda : <function <lambda> at 0x0000025FF5123620>\n",
      "Debugging_map : ['SepalLength', 'SepalWidth', 'PetalLength', 'PetalWidth', 'Name'] \n",
      "=========================================\n",
      "Debuggin_split(',') : ['5.1', '3.5', '1.4', '0.2', 'Iris-setosa']\n",
      "Debugging_lambda : <function <lambda> at 0x0000025FF5135510>\n",
      "Debugging_map : [5.1, 3.5, 1.4, 0.2, 'Iris-setosa'] \n",
      "=========================================\n",
      "Debuggin_split(',') : ['4.9', '3.0', '1.4', '0.2', 'Iris-setosa']\n",
      "Debugging_lambda : <function <lambda> at 0x0000025FF5135EA0>\n",
      "Debugging_map : [4.9, 3.0, 1.4, 0.2, 'Iris-setosa'] \n",
      "=========================================\n",
      "Debuggin_split(',') : ['4.7', '3.2', '1.3', '0.2', 'Iris-setosa']\n",
      "Debugging_lambda : <function <lambda> at 0x0000025FF4CAE048>\n",
      "Debugging_map : [4.7, 3.2, 1.3, 0.2, 'Iris-setosa'] \n",
      "=========================================\n",
      "Debuggin_split(',') : ['4.6', '3.1', '1.5', '0.2', 'Iris-setosa']\n",
      "Debugging_lambda : <function <lambda> at 0x0000025FF4CAEB70>\n",
      "Debugging_map : [4.6, 3.1, 1.5, 0.2, 'Iris-setosa'] \n",
      "=========================================\n",
      "Debuggin_split(',') : ['5.0', '3.6', '1.4', '0.2', 'Iris-setosa']\n",
      "Debugging_lambda : <function <lambda> at 0x0000025FF4C8BF28>\n",
      "Debugging_map : [5.0, 3.6, 1.4, 0.2, 'Iris-setosa'] \n",
      "=========================================\n",
      "Debuggin_split(',') : ['5.4', '3.9', '1.7', '0.4', 'Iris-setosa']\n",
      "Debugging_lambda : <function <lambda> at 0x0000025FF4967730>\n",
      "Debugging_map : [5.4, 3.9, 1.7, 0.4, 'Iris-setosa'] \n",
      "=========================================\n",
      "Debuggin_split(',') : ['4.6', '3.4', '1.4', '0.3', 'Iris-setosa']\n",
      "Debugging_lambda : <function <lambda> at 0x0000025FF4967EA0>\n",
      "Debugging_map : [4.6, 3.4, 1.4, 0.3, 'Iris-setosa'] \n",
      "=========================================\n",
      "Debuggin_split(',') : ['5.0', '3.4', '1.5', '0.2', 'Iris-setosa']\n",
      "Debugging_lambda : <function <lambda> at 0x0000025FF4998598>\n",
      "Debugging_map : [5.0, 3.4, 1.5, 0.2, 'Iris-setosa'] \n",
      "=========================================\n",
      "Debuggin_split(',') : ['4.4', '2.9', '1.4', '0.2', 'Iris-setosa']\n",
      "Debugging_lambda : <function <lambda> at 0x0000025FF4998C80>\n",
      "Debugging_map : [4.4, 2.9, 1.4, 0.2, 'Iris-setosa'] \n",
      "=========================================\n",
      "Debuggin_split(',') : ['4.9', '3.1', '1.5', '0.1', 'Iris-setosa']\n",
      "Debugging_lambda : <function <lambda> at 0x0000025FF5135D08>\n",
      "Debugging_map : [4.9, 3.1, 1.5, 0.1, 'Iris-setosa'] \n",
      "=========================================\n",
      "Debuggin_split(',') : ['5.4', '3.7', '1.5', '0.2', 'Iris-setosa']\n",
      "Debugging_lambda : <function <lambda> at 0x0000025FF5123510>\n",
      "Debugging_map : [5.4, 3.7, 1.5, 0.2, 'Iris-setosa'] \n",
      "=========================================\n",
      "Debuggin_split(',') : ['4.8', '3.4', '1.6', '0.2', 'Iris-setosa']\n",
      "Debugging_lambda : <function <lambda> at 0x0000025FF496C510>\n",
      "Debugging_map : [4.8, 3.4, 1.6, 0.2, 'Iris-setosa'] \n",
      "=========================================\n",
      "Debuggin_split(',') : ['4.8', '3.0', '1.4', '0.1', 'Iris-setosa']\n",
      "Debugging_lambda : <function <lambda> at 0x0000025FF51352F0>\n",
      "Debugging_map : [4.8, 3.0, 1.4, 0.1, 'Iris-setosa'] \n",
      "=========================================\n",
      "Debuggin_split(',') : ['4.3', '3.0', '1.1', '0.1', 'Iris-setosa']\n",
      "Debugging_lambda : <function <lambda> at 0x0000025FF49662F0>\n",
      "Debugging_map : [4.3, 3.0, 1.1, 0.1, 'Iris-setosa'] \n",
      "=========================================\n",
      "Debuggin_split(',') : ['5.8', '4.0', '1.2', '0.2', 'Iris-setosa']\n",
      "Debugging_lambda : <function <lambda> at 0x0000025FF4966A60>\n",
      "Debugging_map : [5.8, 4.0, 1.2, 0.2, 'Iris-setosa'] \n",
      "=========================================\n",
      "Debuggin_split(',') : ['5.7', '4.4', '1.5', '0.4', 'Iris-setosa']\n",
      "Debugging_lambda : <function <lambda> at 0x0000025FF5123D90>\n",
      "Debugging_map : [5.7, 4.4, 1.5, 0.4, 'Iris-setosa'] \n",
      "=========================================\n",
      "Debuggin_split(',') : ['5.4', '3.9', '1.3', '0.4', 'Iris-setosa']\n",
      "Debugging_lambda : <function <lambda> at 0x0000025FF4993400>\n",
      "Debugging_map : [5.4, 3.9, 1.3, 0.4, 'Iris-setosa'] \n",
      "=========================================\n",
      "Debuggin_split(',') : ['5.1', '3.5', '1.4', '0.3', 'Iris-setosa']\n",
      "Debugging_lambda : <function <lambda> at 0x0000025FF4993B70>\n",
      "Debugging_map : [5.1, 3.5, 1.4, 0.3, 'Iris-setosa'] \n",
      "=========================================\n",
      "Debuggin_split(',') : ['5.7', '3.8', '1.7', '0.3', 'Iris-setosa']\n",
      "Debugging_lambda : <function <lambda> at 0x0000025FF497F510>\n",
      "Debugging_map : [5.7, 3.8, 1.7, 0.3, 'Iris-setosa'] \n",
      "=========================================\n",
      "Debuggin_split(',') : ['5.1', '3.8', '1.5', '0.3', 'Iris-setosa']\n",
      "Debugging_lambda : <function <lambda> at 0x0000025FF5135A60>\n",
      "Debugging_map : [5.1, 3.8, 1.5, 0.3, 'Iris-setosa'] \n",
      "=========================================\n",
      "Debuggin_split(',') : ['5.4', '3.4', '1.7', '0.2', 'Iris-setosa']\n",
      "Debugging_lambda : <function <lambda> at 0x0000025FF497B0D0>\n",
      "Debugging_map : [5.4, 3.4, 1.7, 0.2, 'Iris-setosa'] \n",
      "=========================================\n",
      "Debuggin_split(',') : ['5.1', '3.7', '1.5', '0.4', 'Iris-setosa']\n",
      "Debugging_lambda : <function <lambda> at 0x0000025FF497B840>\n",
      "Debugging_map : [5.1, 3.7, 1.5, 0.4, 'Iris-setosa'] \n",
      "=========================================\n",
      "Debuggin_split(',') : ['4.6', '3.6', '1.0', '0.2', 'Iris-setosa']\n",
      "Debugging_lambda : <function <lambda> at 0x0000025FF49941E0>\n",
      "Debugging_map : [4.6, 3.6, 1.0, 0.2, 'Iris-setosa'] \n",
      "=========================================\n",
      "Debuggin_split(',') : ['5.1', '3.3', '1.7', '0.5', 'Iris-setosa']\n",
      "Debugging_lambda : <function <lambda> at 0x0000025FF49947B8>\n",
      "Debugging_map : [5.1, 3.3, 1.7, 0.5, 'Iris-setosa'] \n",
      "=========================================\n",
      "Debuggin_split(',') : ['4.8', '3.4', '1.9', '0.2', 'Iris-setosa']\n",
      "Debugging_lambda : <function <lambda> at 0x0000025FF4994C80>\n",
      "Debugging_map : [4.8, 3.4, 1.9, 0.2, 'Iris-setosa'] \n",
      "=========================================\n",
      "Debuggin_split(',') : ['5.0', '3.0', '1.6', '0.2', 'Iris-setosa']\n",
      "Debugging_lambda : <function <lambda> at 0x0000025FF497D8C8>\n",
      "Debugging_map : [5.0, 3.0, 1.6, 0.2, 'Iris-setosa'] \n",
      "=========================================\n",
      "Debuggin_split(',') : ['5.0', '3.4', '1.6', '0.4', 'Iris-setosa']\n",
      "Debugging_lambda : <function <lambda> at 0x0000025FF497D158>\n",
      "Debugging_map : [5.0, 3.4, 1.6, 0.4, 'Iris-setosa'] \n",
      "=========================================\n",
      "Debuggin_split(',') : ['5.2', '3.5', '1.5', '0.2', 'Iris-setosa']\n",
      "Debugging_lambda : <function <lambda> at 0x0000025FF498CA60>\n",
      "Debugging_map : [5.2, 3.5, 1.5, 0.2, 'Iris-setosa'] \n",
      "=========================================\n",
      "Debuggin_split(',') : ['5.2', '3.4', '1.4', '0.2', 'Iris-setosa']\n",
      "Debugging_lambda : <function <lambda> at 0x0000025FF498C048>\n",
      "Debugging_map : [5.2, 3.4, 1.4, 0.2, 'Iris-setosa'] \n",
      "=========================================\n",
      "Debuggin_split(',') : ['4.7', '3.2', '1.6', '0.2', 'Iris-setosa']\n",
      "Debugging_lambda : <function <lambda> at 0x0000025FF4984598>\n",
      "Debugging_map : [4.7, 3.2, 1.6, 0.2, 'Iris-setosa'] \n",
      "=========================================\n",
      "Debuggin_split(',') : ['4.8', '3.1', '1.6', '0.2', 'Iris-setosa']\n",
      "Debugging_lambda : <function <lambda> at 0x0000025FF49939D8>\n",
      "Debugging_map : [4.8, 3.1, 1.6, 0.2, 'Iris-setosa'] \n",
      "=========================================\n",
      "Debuggin_split(',') : ['5.4', '3.4', '1.5', '0.4', 'Iris-setosa']\n",
      "Debugging_lambda : <function <lambda> at 0x0000025FF4993158>\n",
      "Debugging_map : [5.4, 3.4, 1.5, 0.4, 'Iris-setosa'] \n",
      "=========================================\n",
      "Debuggin_split(',') : ['5.2', '4.1', '1.5', '0.1', 'Iris-setosa']\n",
      "Debugging_lambda : <function <lambda> at 0x0000025FF4998AE8>\n",
      "Debugging_map : [5.2, 4.1, 1.5, 0.1, 'Iris-setosa'] \n",
      "=========================================\n",
      "Debuggin_split(',') : ['5.5', '4.2', '1.4', '0.2', 'Iris-setosa']\n",
      "Debugging_lambda : <function <lambda> at 0x0000025FF49982F0>\n",
      "Debugging_map : [5.5, 4.2, 1.4, 0.2, 'Iris-setosa'] \n",
      "=========================================\n",
      "Debuggin_split(',') : ['4.9', '3.1', '1.5', '0.1', 'Iris-setosa']\n",
      "Debugging_lambda : <function <lambda> at 0x0000025FF4C8B840>\n",
      "Debugging_map : [4.9, 3.1, 1.5, 0.1, 'Iris-setosa'] \n",
      "=========================================\n",
      "Debuggin_split(',') : ['5.0', '3.2', '1.2', '0.2', 'Iris-setosa']\n",
      "Debugging_lambda : <function <lambda> at 0x0000025FF5123488>\n",
      "Debugging_map : [5.0, 3.2, 1.2, 0.2, 'Iris-setosa'] \n",
      "=========================================\n",
      "Debuggin_split(',') : ['5.5', '3.5', '1.3', '0.2', 'Iris-setosa']\n",
      "Debugging_lambda : <function <lambda> at 0x0000025FF5123EA0>\n",
      "Debugging_map : [5.5, 3.5, 1.3, 0.2, 'Iris-setosa'] \n",
      "=========================================\n",
      "Debuggin_split(',') : ['4.9', '3.1', '1.5', '0.1', 'Iris-setosa']\n",
      "Debugging_lambda : <function <lambda> at 0x0000025FF4CAE378>\n",
      "Debugging_map : [4.9, 3.1, 1.5, 0.1, 'Iris-setosa'] \n",
      "=========================================\n",
      "Debuggin_split(',') : ['4.4', '3.0', '1.3', '0.2', 'Iris-setosa']\n",
      "Debugging_lambda : <function <lambda> at 0x0000025FF5135048>\n",
      "Debugging_map : [4.4, 3.0, 1.3, 0.2, 'Iris-setosa'] \n",
      "=========================================\n",
      "Debuggin_split(',') : ['5.1', '3.4', '1.5', '0.2', 'Iris-setosa']\n",
      "Debugging_lambda : <function <lambda> at 0x0000025FF5135EA0>\n",
      "Debugging_map : [5.1, 3.4, 1.5, 0.2, 'Iris-setosa'] \n",
      "=========================================\n",
      "Debuggin_split(',') : ['5.0', '3.5', '1.3', '0.3', 'Iris-setosa']\n",
      "Debugging_lambda : <function <lambda> at 0x0000025FF499F048>\n",
      "Debugging_map : [5.0, 3.5, 1.3, 0.3, 'Iris-setosa'] \n",
      "=========================================\n",
      "Debuggin_split(',') : ['4.5', '2.3', '1.3', '0.3', 'Iris-setosa']\n",
      "Debugging_lambda : <function <lambda> at 0x0000025FF499F7B8>\n",
      "Debugging_map : [4.5, 2.3, 1.3, 0.3, 'Iris-setosa'] \n",
      "=========================================\n",
      "Debuggin_split(',') : ['4.4', '3.2', '1.3', '0.2', 'Iris-setosa']\n",
      "Debugging_lambda : <function <lambda> at 0x0000025FF499FF28>\n",
      "Debugging_map : [4.4, 3.2, 1.3, 0.2, 'Iris-setosa'] \n",
      "=========================================\n",
      "Debuggin_split(',') : ['5.0', '3.5', '1.6', '0.6', 'Iris-setosa']\n",
      "Debugging_lambda : <function <lambda> at 0x0000025FF49678C8>\n",
      "Debugging_map : [5.0, 3.5, 1.6, 0.6, 'Iris-setosa'] \n",
      "=========================================\n",
      "Debuggin_split(',') : ['5.1', '3.8', '1.9', '0.4', 'Iris-setosa']\n",
      "Debugging_lambda : <function <lambda> at 0x0000025FF49670D0>\n",
      "Debugging_map : [5.1, 3.8, 1.9, 0.4, 'Iris-setosa'] \n",
      "=========================================\n",
      "Debuggin_split(',') : ['4.8', '3.0', '1.4', '0.3', 'Iris-setosa']\n",
      "Debugging_lambda : <function <lambda> at 0x0000025FF49806A8>\n",
      "Debugging_map : [4.8, 3.0, 1.4, 0.3, 'Iris-setosa'] \n",
      "=========================================\n",
      "Debuggin_split(',') : ['5.1', '3.8', '1.6', '0.2', 'Iris-setosa']\n",
      "Debugging_lambda : <function <lambda> at 0x0000025FF4980E18>\n",
      "Debugging_map : [5.1, 3.8, 1.6, 0.2, 'Iris-setosa'] \n",
      "=========================================\n",
      "Debuggin_split(',') : ['4.6', '3.2', '1.4', '0.2', 'Iris-setosa']\n",
      "Debugging_lambda : <function <lambda> at 0x0000025FF4964620>\n",
      "Debugging_map : [4.6, 3.2, 1.4, 0.2, 'Iris-setosa'] \n",
      "=========================================\n",
      "Debuggin_split(',') : ['5.3', '3.7', '1.5', '0.2', 'Iris-setosa']\n",
      "Debugging_lambda : <function <lambda> at 0x0000025FF4964D90>\n",
      "Debugging_map : [5.3, 3.7, 1.5, 0.2, 'Iris-setosa'] \n",
      "=========================================\n",
      "Debuggin_split(',') : ['5.0', '3.3', '1.4', '0.2', 'Iris-setosa']\n",
      "Debugging_lambda : <function <lambda> at 0x0000025FF4971A60>\n",
      "Debugging_map : [5.0, 3.3, 1.4, 0.2, 'Iris-setosa'] \n",
      "=========================================\n",
      "Debuggin_split(',') : ['7.0', '3.2', '4.7', '1.4', 'Iris-versicolor']\n",
      "Debugging_lambda : <function <lambda> at 0x0000025FF49712F0>\n",
      "Debugging_map : [7.0, 3.2, 4.7, 1.4, 'Iris-versicolor'] \n",
      "=========================================\n",
      "Debuggin_split(',') : ['6.4', '3.2', '4.5', '1.5', 'Iris-versicolor']\n",
      "Debugging_lambda : <function <lambda> at 0x0000025FF496AB70>\n",
      "Debugging_map : [6.4, 3.2, 4.5, 1.5, 'Iris-versicolor'] \n",
      "=========================================\n",
      "Debuggin_split(',') : ['6.9', '3.1', '4.9', '1.5', 'Iris-versicolor']\n",
      "Debugging_lambda : <function <lambda> at 0x0000025FF4993F28>\n",
      "Debugging_map : [6.9, 3.1, 4.9, 1.5, 'Iris-versicolor'] \n",
      "=========================================\n",
      "Debuggin_split(',') : ['5.5', '2.3', '4.0', '1.3', 'Iris-versicolor']\n",
      "Debugging_lambda : <function <lambda> at 0x0000025FF5134378>\n",
      "Debugging_map : [5.5, 2.3, 4.0, 1.3, 'Iris-versicolor'] \n",
      "=========================================\n",
      "Debuggin_split(',') : ['6.5', '2.8', '4.6', '1.5', 'Iris-versicolor']\n",
      "Debugging_lambda : <function <lambda> at 0x0000025FF5134AE8>\n",
      "Debugging_map : [6.5, 2.8, 4.6, 1.5, 'Iris-versicolor'] \n",
      "=========================================\n",
      "Debuggin_split(',') : ['5.7', '2.8', '4.5', '1.3', 'Iris-versicolor']\n",
      "Debugging_lambda : <function <lambda> at 0x0000025FF51562F0>\n",
      "Debugging_map : [5.7, 2.8, 4.5, 1.3, 'Iris-versicolor'] \n",
      "=========================================\n",
      "Debuggin_split(',') : ['6.3', '3.3', '4.7', '1.6', 'Iris-versicolor']\n",
      "Debugging_lambda : <function <lambda> at 0x0000025FF5156A60>\n",
      "Debugging_map : [6.3, 3.3, 4.7, 1.6, 'Iris-versicolor'] \n",
      "=========================================\n",
      "Debuggin_split(',') : ['4.9', '2.4', '3.3', '1.0', 'Iris-versicolor']\n",
      "Debugging_lambda : <function <lambda> at 0x0000025FF5122D90>\n",
      "Debugging_map : [4.9, 2.4, 3.3, 1.0, 'Iris-versicolor'] \n",
      "=========================================\n",
      "Debuggin_split(',') : ['6.6', '2.9', '4.6', '1.3', 'Iris-versicolor']\n",
      "Debugging_lambda : <function <lambda> at 0x0000025FF5122598>\n",
      "Debugging_map : [6.6, 2.9, 4.6, 1.3, 'Iris-versicolor'] \n",
      "=========================================\n",
      "Debuggin_split(',') : ['5.2', '2.7', '3.9', '1.4', 'Iris-versicolor']\n",
      "Debugging_lambda : <function <lambda> at 0x0000025FF512E1E0>\n",
      "Debugging_map : [5.2, 2.7, 3.9, 1.4, 'Iris-versicolor'] \n",
      "=========================================\n",
      "Debuggin_split(',') : ['5.0', '2.0', '3.5', '1.0', 'Iris-versicolor']\n",
      "Debugging_lambda : <function <lambda> at 0x0000025FF512E950>\n",
      "Debugging_map : [5.0, 2.0, 3.5, 1.0, 'Iris-versicolor'] \n",
      "=========================================\n",
      "Debuggin_split(',') : ['5.9', '3.0', '4.2', '1.5', 'Iris-versicolor']\n",
      "Debugging_lambda : <function <lambda> at 0x0000025FF4993B70>\n",
      "Debugging_map : [5.9, 3.0, 4.2, 1.5, 'Iris-versicolor'] \n",
      "=========================================\n",
      "Debuggin_split(',') : ['6.0', '2.2', '4.0', '1.0', 'Iris-versicolor']\n",
      "Debugging_lambda : <function <lambda> at 0x0000025FF5127378>\n",
      "Debugging_map : [6.0, 2.2, 4.0, 1.0, 'Iris-versicolor'] \n",
      "=========================================\n",
      "Debuggin_split(',') : ['6.1', '2.9', '4.7', '1.4', 'Iris-versicolor']\n",
      "Debugging_lambda : <function <lambda> at 0x0000025FF5127AE8>\n",
      "Debugging_map : [6.1, 2.9, 4.7, 1.4, 'Iris-versicolor'] \n",
      "=========================================\n",
      "Debuggin_split(',') : ['5.6', '2.9', '3.6', '1.3', 'Iris-versicolor']\n",
      "Debugging_lambda : <function <lambda> at 0x0000025FF512C2F0>\n",
      "Debugging_map : [5.6, 2.9, 3.6, 1.3, 'Iris-versicolor'] \n",
      "=========================================\n",
      "Debuggin_split(',') : ['6.7', '3.1', '4.4', '1.4', 'Iris-versicolor']\n",
      "Debugging_lambda : <function <lambda> at 0x0000025FF512CA60>\n",
      "Debugging_map : [6.7, 3.1, 4.4, 1.4, 'Iris-versicolor'] \n",
      "=========================================\n",
      "Debuggin_split(',') : ['5.6', '3.0', '4.5', '1.5', 'Iris-versicolor']\n",
      "Debugging_lambda : <function <lambda> at 0x0000025FF5155268>\n",
      "Debugging_map : [5.6, 3.0, 4.5, 1.5, 'Iris-versicolor'] \n",
      "=========================================\n",
      "Debuggin_split(',') : ['5.8', '2.7', '4.1', '1.0', 'Iris-versicolor']\n",
      "Debugging_lambda : <function <lambda> at 0x0000025FF51559D8>\n",
      "Debugging_map : [5.8, 2.7, 4.1, 1.0, 'Iris-versicolor'] \n",
      "=========================================\n",
      "Debuggin_split(',') : ['6.2', '2.2', '4.5', '1.5', 'Iris-versicolor']\n",
      "Debugging_lambda : <function <lambda> at 0x0000025FF5158158>\n",
      "Debugging_map : [6.2, 2.2, 4.5, 1.5, 'Iris-versicolor'] \n",
      "=========================================\n",
      "Debuggin_split(',') : ['5.6', '2.5', '3.9', '1.1', 'Iris-versicolor']\n",
      "Debugging_lambda : <function <lambda> at 0x0000025FF5158950>\n",
      "Debugging_map : [5.6, 2.5, 3.9, 1.1, 'Iris-versicolor'] \n",
      "=========================================\n",
      "Debuggin_split(',') : ['5.9', '3.2', '4.8', '1.8', 'Iris-versicolor']\n",
      "Debugging_lambda : <function <lambda> at 0x0000025FF5150EA0>\n",
      "Debugging_map : [5.9, 3.2, 4.8, 1.8, 'Iris-versicolor'] \n",
      "=========================================\n",
      "Debuggin_split(',') : ['6.1', '2.8', '4.0', '1.3', 'Iris-versicolor']\n",
      "Debugging_lambda : <function <lambda> at 0x0000025FF5150730>\n",
      "Debugging_map : [6.1, 2.8, 4.0, 1.3, 'Iris-versicolor'] \n",
      "=========================================\n",
      "Debuggin_split(',') : ['6.3', '2.5', '4.9', '1.5', 'Iris-versicolor']\n",
      "Debugging_lambda : <function <lambda> at 0x0000025FF515A048>\n",
      "Debugging_map : [6.3, 2.5, 4.9, 1.5, 'Iris-versicolor'] \n",
      "=========================================\n",
      "Debuggin_split(',') : ['6.1', '2.8', '4.7', '1.2', 'Iris-versicolor']\n",
      "Debugging_lambda : <function <lambda> at 0x0000025FF515A840>\n",
      "Debugging_map : [6.1, 2.8, 4.7, 1.2, 'Iris-versicolor'] \n",
      "=========================================\n",
      "Debuggin_split(',') : ['6.4', '2.9', '4.3', '1.3', 'Iris-versicolor']\n",
      "Debugging_lambda : <function <lambda> at 0x0000025FF515AE18>\n",
      "Debugging_map : [6.4, 2.9, 4.3, 1.3, 'Iris-versicolor'] \n",
      "=========================================\n",
      "Debuggin_split(',') : ['6.6', '3.0', '4.4', '1.4', 'Iris-versicolor']\n",
      "Debugging_lambda : <function <lambda> at 0x0000025FF5133730>\n",
      "Debugging_map : [6.6, 3.0, 4.4, 1.4, 'Iris-versicolor'] \n",
      "=========================================\n",
      "Debuggin_split(',') : ['6.8', '2.8', '4.8', '1.4', 'Iris-versicolor']\n",
      "Debugging_lambda : <function <lambda> at 0x0000025FF5133EA0>\n",
      "Debugging_map : [6.8, 2.8, 4.8, 1.4, 'Iris-versicolor'] \n",
      "=========================================\n",
      "Debuggin_split(',') : ['6.7', '3.0', '5.0', '1.7', 'Iris-versicolor']\n",
      "Debugging_lambda : <function <lambda> at 0x0000025FF515D6A8>\n",
      "Debugging_map : [6.7, 3.0, 5.0, 1.7, 'Iris-versicolor'] \n",
      "=========================================\n",
      "Debuggin_split(',') : ['6.0', '2.9', '4.5', '1.5', 'Iris-versicolor']\n",
      "Debugging_lambda : <function <lambda> at 0x0000025FF515DE18>\n",
      "Debugging_map : [6.0, 2.9, 4.5, 1.5, 'Iris-versicolor'] \n",
      "=========================================\n",
      "Debuggin_split(',') : ['5.7', '2.6', '3.5', '1.0', 'Iris-versicolor']\n",
      "Debugging_lambda : <function <lambda> at 0x0000025FF515E9D8>\n",
      "Debugging_map : [5.7, 2.6, 3.5, 1.0, 'Iris-versicolor'] \n",
      "=========================================\n",
      "Debuggin_split(',') : ['5.5', '2.4', '3.8', '1.1', 'Iris-versicolor']\n",
      "Debugging_lambda : <function <lambda> at 0x0000025FF515E1E0>\n",
      "Debugging_map : [5.5, 2.4, 3.8, 1.1, 'Iris-versicolor'] \n",
      "=========================================\n",
      "Debuggin_split(',') : ['5.5', '2.4', '3.7', '1.0', 'Iris-versicolor']\n",
      "Debugging_lambda : <function <lambda> at 0x0000025FF514EA60>\n",
      "Debugging_map : [5.5, 2.4, 3.7, 1.0, 'Iris-versicolor'] \n",
      "=========================================\n",
      "Debuggin_split(',') : ['5.8', '2.7', '3.9', '1.2', 'Iris-versicolor']\n",
      "Debugging_lambda : <function <lambda> at 0x0000025FF514E268>\n",
      "Debugging_map : [5.8, 2.7, 3.9, 1.2, 'Iris-versicolor'] \n",
      "=========================================\n",
      "Debuggin_split(',') : ['6.0', '2.7', '5.1', '1.6', 'Iris-versicolor']\n",
      "Debugging_lambda : <function <lambda> at 0x0000025FF512F510>\n",
      "Debugging_map : [6.0, 2.7, 5.1, 1.6, 'Iris-versicolor'] \n",
      "=========================================\n",
      "Debuggin_split(',') : ['5.4', '3.0', '4.5', '1.5', 'Iris-versicolor']\n",
      "Debugging_lambda : <function <lambda> at 0x0000025FF512FC80>\n",
      "Debugging_map : [5.4, 3.0, 4.5, 1.5, 'Iris-versicolor'] \n",
      "=========================================\n",
      "Debuggin_split(',') : ['6.0', '3.4', '4.5', '1.6', 'Iris-versicolor']\n",
      "Debugging_lambda : <function <lambda> at 0x0000025FF5136BF8>\n",
      "Debugging_map : [6.0, 3.4, 4.5, 1.6, 'Iris-versicolor'] \n",
      "=========================================\n",
      "Debuggin_split(',') : ['6.7', '3.1', '4.7', '1.5', 'Iris-versicolor']\n",
      "Debugging_lambda : <function <lambda> at 0x0000025FF5136488>\n",
      "Debugging_map : [6.7, 3.1, 4.7, 1.5, 'Iris-versicolor'] \n",
      "=========================================\n",
      "Debuggin_split(',') : ['6.3', '2.3', '4.4', '1.3', 'Iris-versicolor']\n",
      "Debugging_lambda : <function <lambda> at 0x0000025FF5139378>\n",
      "Debugging_map : [6.3, 2.3, 4.4, 1.3, 'Iris-versicolor'] \n",
      "=========================================\n",
      "Debuggin_split(',') : ['5.6', '3.0', '4.1', '1.3', 'Iris-versicolor']\n",
      "Debugging_lambda : <function <lambda> at 0x0000025FF5139AE8>\n",
      "Debugging_map : [5.6, 3.0, 4.1, 1.3, 'Iris-versicolor'] \n",
      "=========================================\n",
      "Debuggin_split(',') : ['5.5', '2.5', '4.0', '1.3', 'Iris-versicolor']\n",
      "Debugging_lambda : <function <lambda> at 0x0000025FF5152D90>\n",
      "Debugging_map : [5.5, 2.5, 4.0, 1.3, 'Iris-versicolor'] \n",
      "=========================================\n",
      "Debuggin_split(',') : ['5.5', '2.6', '4.4', '1.2', 'Iris-versicolor']\n",
      "Debugging_lambda : <function <lambda> at 0x0000025FF5152620>\n",
      "Debugging_map : [5.5, 2.6, 4.4, 1.2, 'Iris-versicolor'] \n",
      "=========================================\n",
      "Debuggin_split(',') : ['6.1', '3.0', '4.6', '1.4', 'Iris-versicolor']\n",
      "Debugging_lambda : <function <lambda> at 0x0000025FF5141158>\n",
      "Debugging_map : [6.1, 3.0, 4.6, 1.4, 'Iris-versicolor'] \n",
      "=========================================\n",
      "Debuggin_split(',') : ['5.8', '2.6', '4.0', '1.2', 'Iris-versicolor']\n",
      "Debugging_lambda : <function <lambda> at 0x0000025FF51418C8>\n",
      "Debugging_map : [5.8, 2.6, 4.0, 1.2, 'Iris-versicolor'] \n",
      "=========================================\n",
      "Debuggin_split(',') : ['5.0', '2.3', '3.3', '1.0', 'Iris-versicolor']\n",
      "Debugging_lambda : <function <lambda> at 0x0000025FF513C0D0>\n",
      "Debugging_map : [5.0, 2.3, 3.3, 1.0, 'Iris-versicolor'] \n",
      "=========================================\n",
      "Debuggin_split(',') : ['5.6', '2.7', '4.2', '1.3', 'Iris-versicolor']\n",
      "Debugging_lambda : <function <lambda> at 0x0000025FF513C840>\n",
      "Debugging_map : [5.6, 2.7, 4.2, 1.3, 'Iris-versicolor'] \n",
      "=========================================\n",
      "Debuggin_split(',') : ['5.7', '3.0', '4.2', '1.2', 'Iris-versicolor']\n",
      "Debugging_lambda : <function <lambda> at 0x0000025FF513CF28>\n",
      "Debugging_map : [5.7, 3.0, 4.2, 1.2, 'Iris-versicolor'] \n",
      "=========================================\n",
      "Debuggin_split(',') : ['5.7', '2.9', '4.2', '1.3', 'Iris-versicolor']\n",
      "Debugging_lambda : <function <lambda> at 0x0000025FF5143730>\n",
      "Debugging_map : [5.7, 2.9, 4.2, 1.3, 'Iris-versicolor'] \n",
      "=========================================\n",
      "Debuggin_split(',') : ['6.2', '2.9', '4.3', '1.3', 'Iris-versicolor']\n",
      "Debugging_lambda : <function <lambda> at 0x0000025FF5143C80>\n",
      "Debugging_map : [6.2, 2.9, 4.3, 1.3, 'Iris-versicolor'] \n",
      "=========================================\n",
      "Debuggin_split(',') : ['5.1', '2.5', '3.0', '1.1', 'Iris-versicolor']\n",
      "Debugging_lambda : <function <lambda> at 0x0000025FF5140488>\n",
      "Debugging_map : [5.1, 2.5, 3.0, 1.1, 'Iris-versicolor'] \n",
      "=========================================\n",
      "Debuggin_split(',') : ['5.7', '2.8', '4.1', '1.3', 'Iris-versicolor']\n",
      "Debugging_lambda : <function <lambda> at 0x0000025FF5140BF8>\n",
      "Debugging_map : [5.7, 2.8, 4.1, 1.3, 'Iris-versicolor'] \n",
      "=========================================\n",
      "Debuggin_split(',') : ['6.3', '3.3', '6.0', '2.5', 'Iris-virginica']\n",
      "Debugging_lambda : <function <lambda> at 0x0000025FF5148400>\n",
      "Debugging_map : [6.3, 3.3, 6.0, 2.5, 'Iris-virginica'] \n",
      "=========================================\n",
      "Debuggin_split(',') : ['5.8', '2.7', '5.1', '1.9', 'Iris-virginica']\n",
      "Debugging_lambda : <function <lambda> at 0x0000025FF5148B70>\n",
      "Debugging_map : [5.8, 2.7, 5.1, 1.9, 'Iris-virginica'] \n",
      "=========================================\n",
      "Debuggin_split(',') : ['7.1', '3.0', '5.9', '2.1', 'Iris-virginica']\n",
      "Debugging_lambda : <function <lambda> at 0x0000025FF5147378>\n",
      "Debugging_map : [7.1, 3.0, 5.9, 2.1, 'Iris-virginica'] \n",
      "=========================================\n",
      "Debuggin_split(',') : ['6.3', '2.9', '5.6', '1.8', 'Iris-virginica']\n",
      "Debugging_lambda : <function <lambda> at 0x0000025FF5147A60>\n",
      "Debugging_map : [6.3, 2.9, 5.6, 1.8, 'Iris-virginica'] \n",
      "=========================================\n",
      "Debuggin_split(',') : ['6.5', '3.0', '5.8', '2.2', 'Iris-virginica']\n",
      "Debugging_lambda : <function <lambda> at 0x0000025FF514DD90>\n",
      "Debugging_map : [6.5, 3.0, 5.8, 2.2, 'Iris-virginica'] \n",
      "=========================================\n",
      "Debuggin_split(',') : ['7.6', '3.0', '6.6', '2.1', 'Iris-virginica']\n",
      "Debugging_lambda : <function <lambda> at 0x0000025FF514D620>\n",
      "Debugging_map : [7.6, 3.0, 6.6, 2.1, 'Iris-virginica'] \n",
      "=========================================\n",
      "Debuggin_split(',') : ['4.9', '2.5', '4.5', '1.7', 'Iris-virginica']\n",
      "Debugging_lambda : <function <lambda> at 0x0000025FF514AE18>\n",
      "Debugging_map : [4.9, 2.5, 4.5, 1.7, 'Iris-virginica'] \n",
      "=========================================\n",
      "Debuggin_split(',') : ['7.3', '2.9', '6.3', '1.8', 'Iris-virginica']\n",
      "Debugging_lambda : <function <lambda> at 0x0000025FF514A6A8>\n",
      "Debugging_map : [7.3, 2.9, 6.3, 1.8, 'Iris-virginica'] \n",
      "=========================================\n",
      "Debuggin_split(',') : ['6.7', '2.5', '5.8', '1.8', 'Iris-virginica']\n",
      "Debugging_lambda : <function <lambda> at 0x0000025FF5060158>\n",
      "Debugging_map : [6.7, 2.5, 5.8, 1.8, 'Iris-virginica'] \n",
      "=========================================\n",
      "Debuggin_split(',') : ['7.2', '3.6', '6.1', '2.5', 'Iris-virginica']\n",
      "Debugging_lambda : <function <lambda> at 0x0000025FF50608C8>\n",
      "Debugging_map : [7.2, 3.6, 6.1, 2.5, 'Iris-virginica'] \n",
      "=========================================\n",
      "Debuggin_split(',') : ['6.5', '3.2', '5.1', '2.0', 'Iris-virginica']\n",
      "Debugging_lambda : <function <lambda> at 0x0000025FF506F0D0>\n",
      "Debugging_map : [6.5, 3.2, 5.1, 2.0, 'Iris-virginica'] \n",
      "=========================================\n",
      "Debuggin_split(',') : ['6.4', '2.7', '5.3', '1.9', 'Iris-virginica']\n",
      "Debugging_lambda : <function <lambda> at 0x0000025FF506F840>\n",
      "Debugging_map : [6.4, 2.7, 5.3, 1.9, 'Iris-virginica'] \n",
      "=========================================\n",
      "Debuggin_split(',') : ['6.8', '3.0', '5.5', '2.1', 'Iris-virginica']\n",
      "Debugging_lambda : <function <lambda> at 0x0000025FF509FA60>\n",
      "Debugging_map : [6.8, 3.0, 5.5, 2.1, 'Iris-virginica'] \n",
      "=========================================\n",
      "Debuggin_split(',') : ['5.7', '2.5', '5.0', '2.0', 'Iris-virginica']\n",
      "Debugging_lambda : <function <lambda> at 0x0000025FF509F840>\n",
      "Debugging_map : [5.7, 2.5, 5.0, 2.0, 'Iris-virginica'] \n",
      "=========================================\n",
      "Debuggin_split(',') : ['5.8', '2.8', '5.1', '2.4', 'Iris-virginica']\n",
      "Debugging_lambda : <function <lambda> at 0x0000025FF509F048>\n",
      "Debugging_map : [5.8, 2.8, 5.1, 2.4, 'Iris-virginica'] \n",
      "=========================================\n",
      "Debuggin_split(',') : ['6.4', '3.2', '5.3', '2.3', 'Iris-virginica']\n",
      "Debugging_lambda : <function <lambda> at 0x0000025FF506B6A8>\n",
      "Debugging_map : [6.4, 3.2, 5.3, 2.3, 'Iris-virginica'] \n",
      "=========================================\n",
      "Debuggin_split(',') : ['6.5', '3.0', '5.5', '1.8', 'Iris-virginica']\n",
      "Debugging_lambda : <function <lambda> at 0x0000025FF506BEA0>\n",
      "Debugging_map : [6.5, 3.0, 5.5, 1.8, 'Iris-virginica'] \n",
      "=========================================\n",
      "Debuggin_split(',') : ['7.7', '3.8', '6.7', '2.2', 'Iris-virginica']\n",
      "Debugging_lambda : <function <lambda> at 0x0000025FF5072620>\n",
      "Debugging_map : [7.7, 3.8, 6.7, 2.2, 'Iris-virginica'] \n",
      "=========================================\n",
      "Debuggin_split(',') : ['7.7', '2.6', '6.9', '2.3', 'Iris-virginica']\n",
      "Debugging_lambda : <function <lambda> at 0x0000025FF5072D08>\n",
      "Debugging_map : [7.7, 2.6, 6.9, 2.3, 'Iris-virginica'] \n",
      "=========================================\n",
      "Debuggin_split(',') : ['6.0', '2.2', '5.0', '1.5', 'Iris-virginica']\n",
      "Debugging_lambda : <function <lambda> at 0x0000025FF506CAE8>\n",
      "Debugging_map : [6.0, 2.2, 5.0, 1.5, 'Iris-virginica'] \n",
      "=========================================\n",
      "Debuggin_split(',') : ['6.9', '3.2', '5.7', '2.3', 'Iris-virginica']\n",
      "Debugging_lambda : <function <lambda> at 0x0000025FF506C2F0>\n",
      "Debugging_map : [6.9, 3.2, 5.7, 2.3, 'Iris-virginica'] \n",
      "=========================================\n",
      "Debuggin_split(',') : ['5.6', '2.8', '4.9', '2.0', 'Iris-virginica']\n",
      "Debugging_lambda : <function <lambda> at 0x0000025FF507BB70>\n",
      "Debugging_map : [5.6, 2.8, 4.9, 2.0, 'Iris-virginica'] \n",
      "=========================================\n",
      "Debuggin_split(',') : ['7.7', '2.8', '6.7', '2.0', 'Iris-virginica']\n",
      "Debugging_lambda : <function <lambda> at 0x0000025FF507B378>\n",
      "Debugging_map : [7.7, 2.8, 6.7, 2.0, 'Iris-virginica'] \n",
      "=========================================\n",
      "Debuggin_split(',') : ['6.3', '2.7', '4.9', '1.8', 'Iris-virginica']\n",
      "Debugging_lambda : <function <lambda> at 0x0000025FF5070C80>\n",
      "Debugging_map : [6.3, 2.7, 4.9, 1.8, 'Iris-virginica'] \n",
      "=========================================\n",
      "Debuggin_split(',') : ['6.7', '3.3', '5.7', '2.1', 'Iris-virginica']\n",
      "Debugging_lambda : <function <lambda> at 0x0000025FF5070B70>\n",
      "Debugging_map : [6.7, 3.3, 5.7, 2.1, 'Iris-virginica'] \n",
      "=========================================\n",
      "Debuggin_split(',') : ['7.2', '3.2', '6.0', '1.8', 'Iris-virginica']\n",
      "Debugging_lambda : <function <lambda> at 0x0000025FF5073C80>\n",
      "Debugging_map : [7.2, 3.2, 6.0, 1.8, 'Iris-virginica'] \n",
      "=========================================\n",
      "Debuggin_split(',') : ['6.2', '2.8', '4.8', '1.8', 'Iris-virginica']\n",
      "Debugging_lambda : <function <lambda> at 0x0000025FF5073488>\n",
      "Debugging_map : [6.2, 2.8, 4.8, 1.8, 'Iris-virginica'] \n",
      "=========================================\n",
      "Debuggin_split(',') : ['6.1', '3.0', '4.9', '1.8', 'Iris-virginica']\n",
      "Debugging_lambda : <function <lambda> at 0x0000025FF509E268>\n",
      "Debugging_map : [6.1, 3.0, 4.9, 1.8, 'Iris-virginica'] \n",
      "=========================================\n",
      "Debuggin_split(',') : ['6.4', '2.8', '5.6', '2.1', 'Iris-virginica']\n",
      "Debugging_lambda : <function <lambda> at 0x0000025FF509E9D8>\n",
      "Debugging_map : [6.4, 2.8, 5.6, 2.1, 'Iris-virginica'] \n",
      "=========================================\n",
      "Debuggin_split(',') : ['7.2', '3.0', '5.8', '1.6', 'Iris-virginica']\n",
      "Debugging_lambda : <function <lambda> at 0x0000025FF50761E0>\n",
      "Debugging_map : [7.2, 3.0, 5.8, 1.6, 'Iris-virginica'] \n",
      "=========================================\n",
      "Debuggin_split(',') : ['7.4', '2.8', '6.1', '1.9', 'Iris-virginica']\n",
      "Debugging_lambda : <function <lambda> at 0x0000025FF5076950>\n",
      "Debugging_map : [7.4, 2.8, 6.1, 1.9, 'Iris-virginica'] \n",
      "=========================================\n",
      "Debuggin_split(',') : ['7.9', '3.8', '6.4', '2.0', 'Iris-virginica']\n",
      "Debugging_lambda : <function <lambda> at 0x0000025FF5093158>\n",
      "Debugging_map : [7.9, 3.8, 6.4, 2.0, 'Iris-virginica'] \n",
      "=========================================\n",
      "Debuggin_split(',') : ['6.4', '2.8', '5.6', '2.2', 'Iris-virginica']\n",
      "Debugging_lambda : <function <lambda> at 0x0000025FF50938C8>\n",
      "Debugging_map : [6.4, 2.8, 5.6, 2.2, 'Iris-virginica'] \n",
      "=========================================\n",
      "Debuggin_split(',') : ['6.3', '2.8', '5.1', '1.5', 'Iris-virginica']\n",
      "Debugging_lambda : <function <lambda> at 0x0000025FF5097F28>\n",
      "Debugging_map : [6.3, 2.8, 5.1, 1.5, 'Iris-virginica'] \n",
      "=========================================\n",
      "Debuggin_split(',') : ['6.1', '2.6', '5.6', '1.4', 'Iris-virginica']\n",
      "Debugging_lambda : <function <lambda> at 0x0000025FF50977B8>\n",
      "Debugging_map : [6.1, 2.6, 5.6, 1.4, 'Iris-virginica'] \n",
      "=========================================\n",
      "Debuggin_split(',') : ['7.7', '3.0', '6.1', '2.3', 'Iris-virginica']\n",
      "Debugging_lambda : <function <lambda> at 0x0000025FF5094048>\n",
      "Debugging_map : [7.7, 3.0, 6.1, 2.3, 'Iris-virginica'] \n",
      "=========================================\n",
      "Debuggin_split(',') : ['6.3', '3.4', '5.6', '2.4', 'Iris-virginica']\n",
      "Debugging_lambda : <function <lambda> at 0x0000025FF497F488>\n",
      "Debugging_map : [6.3, 3.4, 5.6, 2.4, 'Iris-virginica'] \n",
      "=========================================\n",
      "Debuggin_split(',') : ['6.4', '3.1', '5.5', '1.8', 'Iris-virginica']\n",
      "Debugging_lambda : <function <lambda> at 0x0000025FF5094C80>\n",
      "Debugging_map : [6.4, 3.1, 5.5, 1.8, 'Iris-virginica'] \n",
      "=========================================\n",
      "Debuggin_split(',') : ['6.0', '3.0', '4.8', '1.8', 'Iris-virginica']\n",
      "Debugging_lambda : <function <lambda> at 0x0000025FF508AB70>\n",
      "Debugging_map : [6.0, 3.0, 4.8, 1.8, 'Iris-virginica'] \n",
      "=========================================\n",
      "Debuggin_split(',') : ['6.9', '3.1', '5.4', '2.1', 'Iris-virginica']\n",
      "Debugging_lambda : <function <lambda> at 0x0000025FF508A400>\n",
      "Debugging_map : [6.9, 3.1, 5.4, 2.1, 'Iris-virginica'] \n",
      "=========================================\n",
      "Debuggin_split(',') : ['6.7', '3.1', '5.6', '2.4', 'Iris-virginica']\n",
      "Debugging_lambda : <function <lambda> at 0x0000025FF508C400>\n",
      "Debugging_map : [6.7, 3.1, 5.6, 2.4, 'Iris-virginica'] \n",
      "=========================================\n",
      "Debuggin_split(',') : ['6.9', '3.1', '5.1', '2.3', 'Iris-virginica']\n",
      "Debugging_lambda : <function <lambda> at 0x0000025FF508CB70>\n",
      "Debugging_map : [6.9, 3.1, 5.1, 2.3, 'Iris-virginica'] \n",
      "=========================================\n",
      "Debuggin_split(',') : ['5.8', '2.7', '5.1', '1.9', 'Iris-virginica']\n",
      "Debugging_lambda : <function <lambda> at 0x0000025FF508DC80>\n",
      "Debugging_map : [5.8, 2.7, 5.1, 1.9, 'Iris-virginica'] \n",
      "=========================================\n",
      "Debuggin_split(',') : ['6.8', '3.2', '5.9', '2.3', 'Iris-virginica']\n",
      "Debugging_lambda : <function <lambda> at 0x0000025FF508D510>\n",
      "Debugging_map : [6.8, 3.2, 5.9, 2.3, 'Iris-virginica'] \n",
      "=========================================\n",
      "Debuggin_split(',') : ['6.7', '3.3', '5.7', '2.5', 'Iris-virginica']\n",
      "Debugging_lambda : <function <lambda> at 0x0000025FF509C268>\n",
      "Debugging_map : [6.7, 3.3, 5.7, 2.5, 'Iris-virginica'] \n",
      "=========================================\n",
      "Debuggin_split(',') : ['6.7', '3.0', '5.2', '2.3', 'Iris-virginica']\n",
      "Debugging_lambda : <function <lambda> at 0x0000025FF509C950>\n",
      "Debugging_map : [6.7, 3.0, 5.2, 2.3, 'Iris-virginica'] \n",
      "=========================================\n",
      "Debuggin_split(',') : ['6.3', '2.5', '5.0', '1.9', 'Iris-virginica']\n",
      "Debugging_lambda : <function <lambda> at 0x0000025FF507F158>\n",
      "Debugging_map : [6.3, 2.5, 5.0, 1.9, 'Iris-virginica'] \n",
      "=========================================\n",
      "Debuggin_split(',') : ['6.5', '3.0', '5.2', '2.0', 'Iris-virginica']\n",
      "Debugging_lambda : <function <lambda> at 0x0000025FF507F8C8>\n",
      "Debugging_map : [6.5, 3.0, 5.2, 2.0, 'Iris-virginica'] \n",
      "=========================================\n",
      "Debuggin_split(',') : ['6.2', '3.4', '5.4', '2.3', 'Iris-virginica']\n",
      "Debugging_lambda : <function <lambda> at 0x0000025FF50990D0>\n",
      "Debugging_map : [6.2, 3.4, 5.4, 2.3, 'Iris-virginica'] \n",
      "=========================================\n",
      "Debuggin_split(',') : ['5.9', '3.0', '5.1', '1.8', 'Iris-virginica']\n",
      "Debugging_lambda : <function <lambda> at 0x0000025FF50997B8>\n",
      "Debugging_map : [5.9, 3.0, 5.1, 1.8, 'Iris-virginica'] \n",
      "=========================================\n"
     ]
    }
   ],
   "source": [
    "csv = []\n",
    "\n",
    "with open('iris.csv','r',encoding= 'utf-8') as fp:\n",
    "    for line in fp:\n",
    "        line = line.strip()## 줄바꿈 제거하기!\n",
    "        cols = line.split(',') ## \",\"을 기준으로 자르기( 구분하기 !)\n",
    "        ### 만약에 숫자라면 임의의 함수 ( 숫자를 실수로 변화 시켜주는 함수)를 통해서 실수로 변화 시켜라 숫자가 아니면 그냥 진행\n",
    "        ## 그결과를 새로운 변수 fn 에 저장해라\n",
    "        print(\"Debuggin_split(',') :\",cols)\n",
    "        fn = lambda n : float(n) if re.match(r'[0-9\\.]+$',n) else n\n",
    "        print(\"Debugging_lambda :\",fn)\n",
    "        ## cols의 값들을 fn에 넣어서 cols를 변경시켜라\n",
    "        cols = list(map(fn,cols))\n",
    "        print(\"Debugging_map :\",cols,\"\\n=========================================\")\n",
    "        ### 보면 위의 cols의 숫자는 문자형태이다. 그러나 및의 cols의 숫자는 int 형태이다\n",
    "        csv.append(cols)\n",
    "        "
   ]
  },
  {
   "cell_type": "markdown",
   "metadata": {
    "collapsed": true
   },
   "source": [
    "#### +a) lambda 와 map 함수에 관해서\n",
    "    \n",
    "    lambda 함수 형태 = \"var = lambda var_2 : 참일때 함수 if 참일 조건 else 거짓일 조건\"\n",
    "        ex) fn = lambda n : n * 2 if n== 1 else n\n",
    "        만약 n이 1이면 2를 곱하고 그외는 그냥 내비두어라.\n",
    "        \n",
    "        + 위에 fn 은 함수이다. 여기서 나온 값들을 리스트와 시키는 것은 map 함수를 쓴다.\n",
    "        \n",
    "        \n",
    "    map 함수 형태 : list(map(함수,함수의 정의역이 있는곳= 값들을 저장하고 싶은 곳))"
   ]
  },
  {
   "cell_type": "code",
   "execution_count": 1,
   "metadata": {},
   "outputs": [
    {
     "ename": "NameError",
     "evalue": "name 're' is not defined",
     "output_type": "error",
     "traceback": [
      "\u001b[1;31m---------------------------------------------------------------------------\u001b[0m",
      "\u001b[1;31mNameError\u001b[0m                                 Traceback (most recent call last)",
      "\u001b[1;32m<ipython-input-1-9fdc9112be9f>\u001b[0m in \u001b[0;36m<module>\u001b[1;34m()\u001b[0m\n\u001b[0;32m      7\u001b[0m         \u001b[0mcols\u001b[0m \u001b[1;33m=\u001b[0m \u001b[0mline\u001b[0m\u001b[1;33m.\u001b[0m\u001b[0msplit\u001b[0m\u001b[1;33m(\u001b[0m\u001b[1;34m'n'\u001b[0m\u001b[1;33m)\u001b[0m\u001b[1;33m\u001b[0m\u001b[0m\n\u001b[0;32m      8\u001b[0m         \u001b[0mfn\u001b[0m \u001b[1;33m=\u001b[0m \u001b[1;32mlambda\u001b[0m \u001b[0mn\u001b[0m \u001b[1;33m:\u001b[0m \u001b[0mfloat\u001b[0m\u001b[1;33m(\u001b[0m\u001b[0mn\u001b[0m\u001b[1;33m)\u001b[0m \u001b[1;32mif\u001b[0m \u001b[0mre\u001b[0m\u001b[1;33m.\u001b[0m\u001b[0mmatch\u001b[0m\u001b[1;33m(\u001b[0m\u001b[1;34mr'^[0-9\\.]+$'\u001b[0m\u001b[1;33m,\u001b[0m\u001b[0mn\u001b[0m\u001b[1;33m)\u001b[0m \u001b[1;32melse\u001b[0m \u001b[0mn\u001b[0m\u001b[1;33m\u001b[0m\u001b[0m\n\u001b[1;32m----> 9\u001b[1;33m         \u001b[0mcols\u001b[0m \u001b[1;33m=\u001b[0m \u001b[0mlist\u001b[0m\u001b[1;33m(\u001b[0m\u001b[0mmap\u001b[0m\u001b[1;33m(\u001b[0m\u001b[0mfn\u001b[0m\u001b[1;33m,\u001b[0m\u001b[0mcols\u001b[0m\u001b[1;33m)\u001b[0m\u001b[1;33m)\u001b[0m\u001b[1;33m\u001b[0m\u001b[0m\n\u001b[0m\u001b[0;32m     10\u001b[0m         \u001b[0mcsv_2\u001b[0m\u001b[1;33m.\u001b[0m\u001b[0mappend\u001b[0m\u001b[1;33m(\u001b[0m\u001b[0mcols\u001b[0m\u001b[1;33m)\u001b[0m\u001b[1;33m\u001b[0m\u001b[0m\n\u001b[0;32m     11\u001b[0m \u001b[1;33m\u001b[0m\u001b[0m\n",
      "\u001b[1;32m<ipython-input-1-9fdc9112be9f>\u001b[0m in \u001b[0;36m<lambda>\u001b[1;34m(n)\u001b[0m\n\u001b[0;32m      6\u001b[0m         \u001b[0mline\u001b[0m \u001b[1;33m=\u001b[0m \u001b[0mline\u001b[0m\u001b[1;33m.\u001b[0m\u001b[0mstrip\u001b[0m\u001b[1;33m(\u001b[0m\u001b[1;33m)\u001b[0m\u001b[1;33m\u001b[0m\u001b[0m\n\u001b[0;32m      7\u001b[0m         \u001b[0mcols\u001b[0m \u001b[1;33m=\u001b[0m \u001b[0mline\u001b[0m\u001b[1;33m.\u001b[0m\u001b[0msplit\u001b[0m\u001b[1;33m(\u001b[0m\u001b[1;34m'n'\u001b[0m\u001b[1;33m)\u001b[0m\u001b[1;33m\u001b[0m\u001b[0m\n\u001b[1;32m----> 8\u001b[1;33m         \u001b[0mfn\u001b[0m \u001b[1;33m=\u001b[0m \u001b[1;32mlambda\u001b[0m \u001b[0mn\u001b[0m \u001b[1;33m:\u001b[0m \u001b[0mfloat\u001b[0m\u001b[1;33m(\u001b[0m\u001b[0mn\u001b[0m\u001b[1;33m)\u001b[0m \u001b[1;32mif\u001b[0m \u001b[0mre\u001b[0m\u001b[1;33m.\u001b[0m\u001b[0mmatch\u001b[0m\u001b[1;33m(\u001b[0m\u001b[1;34mr'^[0-9\\.]+$'\u001b[0m\u001b[1;33m,\u001b[0m\u001b[0mn\u001b[0m\u001b[1;33m)\u001b[0m \u001b[1;32melse\u001b[0m \u001b[0mn\u001b[0m\u001b[1;33m\u001b[0m\u001b[0m\n\u001b[0m\u001b[0;32m      9\u001b[0m         \u001b[0mcols\u001b[0m \u001b[1;33m=\u001b[0m \u001b[0mlist\u001b[0m\u001b[1;33m(\u001b[0m\u001b[0mmap\u001b[0m\u001b[1;33m(\u001b[0m\u001b[0mfn\u001b[0m\u001b[1;33m,\u001b[0m\u001b[0mcols\u001b[0m\u001b[1;33m)\u001b[0m\u001b[1;33m)\u001b[0m\u001b[1;33m\u001b[0m\u001b[0m\n\u001b[0;32m     10\u001b[0m         \u001b[0mcsv_2\u001b[0m\u001b[1;33m.\u001b[0m\u001b[0mappend\u001b[0m\u001b[1;33m(\u001b[0m\u001b[0mcols\u001b[0m\u001b[1;33m)\u001b[0m\u001b[1;33m\u001b[0m\u001b[0m\n",
      "\u001b[1;31mNameError\u001b[0m: name 're' is not defined"
     ]
    }
   ],
   "source": [
    "## 읽어오는 부분 다시 정리\n",
    "\n",
    "csv_2 = []\n",
    "with open('iris.csv','r',encoding = 'utf-8') as fp:\n",
    "    for line in fp:\n",
    "        line = line.strip()\n",
    "        cols = line.split('n')\n",
    "        fn = lambda n : float(n) if re.match(r'^[0-9\\.]+$',n) else n\n",
    "        cols = list(map(fn,cols))\n",
    "        csv_2.append(cols)\n",
    "\n",
    "##### 위에 있는 칼럼 이름 (길이 폭 이름 써져 있는...) 지우기\n",
    "del csv_2[0]\n",
    "len(csv_2)\n"
   ]
  },
  {
   "cell_type": "markdown",
   "metadata": {},
   "source": [
    "### 2-2) 정렬되어 있는 데이터를 섞어버리기!\n",
    "    from random.shuffle()"
   ]
  },
  {
   "cell_type": "code",
   "execution_count": 64,
   "metadata": {
    "collapsed": true
   },
   "outputs": [],
   "source": [
    "import random\n",
    "\n",
    "###### 섞어버리자\n",
    "random.shuffle(csv_2)"
   ]
  },
  {
   "cell_type": "markdown",
   "metadata": {},
   "source": [
    "### 2-3) 학습전용 데이터와 테스트 전용 데이터 분활 하기! "
   ]
  },
  {
   "cell_type": "code",
   "execution_count": 72,
   "metadata": {},
   "outputs": [
    {
     "ename": "IndexError",
     "evalue": "list index out of range",
     "output_type": "error",
     "traceback": [
      "\u001b[1;31m---------------------------------------------------------------------------\u001b[0m",
      "\u001b[1;31mIndexError\u001b[0m                                Traceback (most recent call last)",
      "\u001b[1;32m<ipython-input-72-f1578b5295c0>\u001b[0m in \u001b[0;36m<module>\u001b[1;34m()\u001b[0m\n\u001b[0;32m     12\u001b[0m \u001b[1;32mfor\u001b[0m \u001b[0mrow_num\u001b[0m \u001b[1;32min\u001b[0m \u001b[0mrange\u001b[0m\u001b[1;33m(\u001b[0m\u001b[0mtotal_len\u001b[0m\u001b[1;33m)\u001b[0m\u001b[1;33m:\u001b[0m\u001b[1;33m\u001b[0m\u001b[0m\n\u001b[0;32m     13\u001b[0m     \u001b[0mdata\u001b[0m \u001b[1;33m=\u001b[0m \u001b[0mcsv_2\u001b[0m\u001b[1;33m[\u001b[0m\u001b[0mrow_num\u001b[0m\u001b[1;33m]\u001b[0m\u001b[1;33m[\u001b[0m\u001b[1;36m0\u001b[0m\u001b[1;33m:\u001b[0m\u001b[1;36m4\u001b[0m\u001b[1;33m]\u001b[0m\u001b[1;33m\u001b[0m\u001b[0m\n\u001b[1;32m---> 14\u001b[1;33m     \u001b[0mprint\u001b[0m\u001b[1;33m(\u001b[0m\u001b[0mcsv_2\u001b[0m\u001b[1;33m[\u001b[0m\u001b[1;36m148\u001b[0m\u001b[1;33m]\u001b[0m\u001b[1;33m[\u001b[0m\u001b[1;36m3\u001b[0m\u001b[1;33m]\u001b[0m\u001b[1;33m)\u001b[0m\u001b[1;33m\u001b[0m\u001b[0m\n\u001b[0m\u001b[0;32m     15\u001b[0m \u001b[1;31m#    label = csv_2[row_num][4]\u001b[0m\u001b[1;33m\u001b[0m\u001b[1;33m\u001b[0m\u001b[0m\n\u001b[0;32m     16\u001b[0m \u001b[1;31m#    if row_num <= train_len:\u001b[0m\u001b[1;33m\u001b[0m\u001b[1;33m\u001b[0m\u001b[0m\n",
      "\u001b[1;31mIndexError\u001b[0m: list index out of range"
     ]
    }
   ],
   "source": [
    "## 일단 전체 길이\n",
    "total_len = len(csv_2)\n",
    "## 학습데이터 = \"train\" 이라고 부른다. 테스트 데이터 = \"test\"\n",
    "train_len = int(total_len * 2/3)\n",
    "#### text_len은 그외이니까 굳이 설정 x\n",
    "\n",
    "train_data = []\n",
    "train_label = []\n",
    "text_data = []\n",
    "text_label = []\n",
    "\n",
    "for row_num in range(total_len):\n",
    "    data = csv_2[row_num][0:4]\n",
    "    print(csv_2[148][3])\n",
    "#    label = csv_2[row_num][4]\n",
    "#    if row_num <= train_len:\n",
    "#        train_data.append(data)\n",
    "#        train_label.append(label)\n",
    "#    else:\n",
    "#        text_data.append(data)\n",
    "#        text_label.append(label)\n",
    "\n",
    "        "
   ]
  },
  {
   "cell_type": "code",
   "execution_count": 3,
   "metadata": {
    "collapsed": true
   },
   "outputs": [],
   "source": [
    "import pandas as pd\n",
    "from sklearn import svm,metrics\n",
    "import random,re"
   ]
  },
  {
   "cell_type": "code",
   "execution_count": 66,
   "metadata": {},
   "outputs": [
    {
     "name": "stdout",
     "output_type": "stream",
     "text": [
      "정답률 : 0.98\n"
     ]
    }
   ],
   "source": [
    "### 오류나서 파일 읽고 train , text 나누는 것 까지 다시하기\n",
    "csv_3 = []\n",
    "\n",
    "with open(\"iris.csv\",\"r\",encoding = \"utf-8\") as fp:\n",
    "    for line in fp:\n",
    "        line = line.strip()# 벗기다 strip\n",
    "        cols = line.split(\",\")\n",
    "        fn = lambda n : float(n) if re.match(r'^[0-9\\.]+$',n) else n\n",
    "        cols = list(map(fn,cols))\n",
    "        csv_3.append(cols)\n",
    "        \n",
    "\n",
    "del csv_3[0]\n",
    "\n",
    "random.shuffle(csv_3)\n",
    "\n",
    "total_len = len(csv_3)\n",
    "train_len = int(total_len * 2/3)\n",
    "\n",
    "train_data = []\n",
    "train_label = []\n",
    "text_data =[]\n",
    "text_label = []\n",
    "\n",
    "for row_num in range(total_len): ### range(total_len) = 0부터 149 까지\n",
    "    data = csv_3[row_num][0:4]\n",
    "    label = csv_3[row_num][4]\n",
    "    if row_num < train_len:\n",
    "        train_data.append(data)\n",
    "        train_label.append(label)\n",
    "    else:\n",
    "        text_data.append(data)\n",
    "        text_label.append(label)\n",
    "        \n",
    "        \n",
    "### 이제 학습 및 정답률 확인\n",
    "clf = svm.SVC()\n",
    "clf.fit(train_data,train_label)\n",
    "pre = clf.predict(text_data)\n",
    "\n",
    "score = metrics.accuracy_score(text_label,pre)\n",
    "print(\"정답률 :\",score)\n",
    "\n",
    "\n",
    "####### 위에 random.shuffle 함수 때문에 정답률이 돌릴때마다 다르게 나온다.!!\n",
    "### 그러나 중요한 것은 정답률이 높다는 것이다!"
   ]
  },
  {
   "cell_type": "markdown",
   "metadata": {
    "collapsed": true
   },
   "source": [
    "##### +a) 햇갈리는거 정리\n",
    "    list[n:m] = n+1 ~ m 번쨰 까지\n",
    "    list[m] = m+1 번째 \n",
    "    range(k) = 0~(k-1) 까지의 수\n",
    "             = k 개의 숫자 나열 이다!( 0 ~k-1 ) 까지니까 k개!\n",
    "            "
   ]
  },
  {
   "cell_type": "markdown",
   "metadata": {},
   "source": [
    "## 3. 붓꽃데이터를 이용한, 자동으로 test와 train data 를 나누어 주는 툴이용!"
   ]
  },
  {
   "cell_type": "markdown",
   "metadata": {},
   "source": [
    "#### with) from sklearn.model_selection import train_test_split"
   ]
  },
  {
   "cell_type": "code",
   "execution_count": 1,
   "metadata": {
    "collapsed": true
   },
   "outputs": [],
   "source": [
    "import pandas as pd\n",
    "from sklearn import svm,metrics\n",
    "from sklearn.model_selection import train_test_split"
   ]
  },
  {
   "cell_type": "code",
   "execution_count": 11,
   "metadata": {},
   "outputs": [
    {
     "data": {
      "text/plain": [
       "['SepalLength', 'SepalWidth', 'PetalLength', 'PetalWidth', 'Name']"
      ]
     },
     "execution_count": 11,
     "metadata": {},
     "output_type": "execute_result"
    }
   ],
   "source": [
    "csv_4 = pd.read_csv(\"iris.csv\")\n",
    "\n",
    "csv_4_colnames = list(csv_4.columns.values)\n",
    "csv_4_colnames"
   ]
  },
  {
   "cell_type": "code",
   "execution_count": 38,
   "metadata": {
    "collapsed": true
   },
   "outputs": [],
   "source": [
    "data_4 = csv_4[['SepalLength', 'SepalWidth', 'PetalLength', 'PetalWidth']]\n",
    "label_4 = csv_4['Name']\n",
    "\n",
    "### 위에 함수 응용해서 한번에 할 수도 있다.\n",
    "#data_4 = csv_4[list(csv_4.columns.values)[0:4]]\n",
    "#label_4 = csv_4[list(csv_4.columns.values)[4]]\n",
    "\n",
    "train_data, test_data, train_label, test_label = \\\n",
    "    train_test_split(data_4,label_4)\n",
    "    \n",
    "     #### \\이후에 무조건  다음칸으로 넘기고 tap을 눌러야 한다\n",
    "### 당연히 train_test_split()함수는 돌릴떄마다 결과가 렌덤하게 달라진다."
   ]
  },
  {
   "cell_type": "code",
   "execution_count": 39,
   "metadata": {},
   "outputs": [
    {
     "data": {
      "text/plain": [
       "0.97368421052631582"
      ]
     },
     "execution_count": 39,
     "metadata": {},
     "output_type": "execute_result"
    }
   ],
   "source": [
    "clf_4 = svm.SVC()\n",
    "clf_4.fit(train_data,train_label)\n",
    "pre_4 = clf_4.predict(test_data)\n",
    "\n",
    "as_score_4 = metrics.accuracy_score(test_label,pre_4)\n",
    "as_score_4"
   ]
  },
  {
   "cell_type": "code",
   "execution_count": null,
   "metadata": {
    "collapsed": true
   },
   "outputs": [],
   "source": []
  },
  {
   "cell_type": "code",
   "execution_count": null,
   "metadata": {
    "collapsed": true
   },
   "outputs": [],
   "source": []
  },
  {
   "cell_type": "code",
   "execution_count": null,
   "metadata": {
    "collapsed": true
   },
   "outputs": [],
   "source": []
  }
 ],
 "metadata": {
  "kernelspec": {
   "display_name": "Python 3",
   "language": "python",
   "name": "python3"
  },
  "language_info": {
   "codemirror_mode": {
    "name": "ipython",
    "version": 3
   },
   "file_extension": ".py",
   "mimetype": "text/x-python",
   "name": "python",
   "nbconvert_exporter": "python",
   "pygments_lexer": "ipython3",
   "version": "3.6.1"
  }
 },
 "nbformat": 4,
 "nbformat_minor": 2
}
