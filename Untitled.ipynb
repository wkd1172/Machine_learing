{
 "cells": [
  {
   "cell_type": "code",
   "execution_count": 2,
   "metadata": {},
   "outputs": [],
   "source": [
    "import pandas as pd\n",
    "from sklearn import svm,metrics\n",
    "import random,re"
   ]
  },
  {
   "cell_type": "code",
   "execution_count": 8,
   "metadata": {},
   "outputs": [
    {
     "name": "stdout",
     "output_type": "stream",
     "text": [
      "0.94\n"
     ]
    }
   ],
   "source": [
    "csv = []\n",
    "\n",
    "with open(\"iris.csv\",\"r\",encoding=\"utf-8\") as fp:\n",
    "    for line in fp:\n",
    "        line_2 = line.strip()\n",
    "        line_3 = line_2.split(\",\")\n",
    "        function_1 = lambda n : float(n) if re.match(r'^[0-9\\.]+$',n) else n\n",
    "        line_4 = list(map(function_1,line_3))\n",
    "        csv.append(line_4)\n",
    "\n",
    "del csv[0]\n",
    "\n",
    "random.shuffle(csv)\n",
    "\n",
    "total_len = len(csv)\n",
    "train_len = int(total_len * 2/3)\n",
    "\n",
    "train_data = []\n",
    "train_label =[]\n",
    "test_data = []\n",
    "test_label = []\n",
    "\n",
    "for row_num in range(total_len):\n",
    "    data = csv[row_num][0:4]\n",
    "    label = csv[row_num][4]\n",
    "    if row_num < train_len:\n",
    "        train_data.append(data)\n",
    "        train_label.append(label)\n",
    "    else:\n",
    "        test_data.append(data)\n",
    "        test_label.append(label)\n",
    "        \n",
    "    \n",
    "clf = svm.SVC()\n",
    "clf.fit(train_data,train_label)\n",
    "pre = clf.predict(test_data)\n",
    "\n",
    "ac_score = metrics.accuracy_score(test_label,pre)\n",
    "print(ac_score)\n",
    "        \n",
    "        \n",
    "        "
   ]
  },
  {
   "cell_type": "code",
   "execution_count": null,
   "metadata": {
    "collapsed": true
   },
   "outputs": [],
   "source": []
  },
  {
   "cell_type": "code",
   "execution_count": null,
   "metadata": {
    "collapsed": true
   },
   "outputs": [],
   "source": []
  },
  {
   "cell_type": "code",
   "execution_count": null,
   "metadata": {
    "collapsed": true
   },
   "outputs": [],
   "source": []
  },
  {
   "cell_type": "code",
   "execution_count": 9,
   "metadata": {
    "collapsed": true
   },
   "outputs": [],
   "source": [
    "import pandas as pd\n",
    "from sklearn import svm,metrics\n",
    "from sklearn.model_selection import train_test_split"
   ]
  },
  {
   "cell_type": "code",
   "execution_count": 13,
   "metadata": {},
   "outputs": [
    {
     "name": "stdout",
     "output_type": "stream",
     "text": [
      "정답룰 : 0.973684210526\n"
     ]
    }
   ],
   "source": [
    "csv_2 = pd.read_csv(\"iris.csv\")\n",
    "\n",
    "csv_2_data = csv_2[list(csv_2.columns.values)[0:4]]\n",
    "csv_2_label = csv_2[list(csv_2.columns.values)[4]]\n",
    "\n",
    "tr_dat, te_dat, tr_lab, te_lab = \\\n",
    "    train_test_split(csv_2_data, csv_2_label)\n",
    "\n",
    "clf_2 = svm.SVC()\n",
    "clf_2.fit(tr_dat,tr_lab)\n",
    "pre_2 = clf_2.predict(te_dat)\n",
    "\n",
    "print(\"정답룰 :\",metrics.accuracy_score(te_lab,pre_2))"
   ]
  },
  {
   "cell_type": "code",
   "execution_count": null,
   "metadata": {
    "collapsed": true
   },
   "outputs": [],
   "source": []
  },
  {
   "cell_type": "code",
   "execution_count": null,
   "metadata": {
    "collapsed": true
   },
   "outputs": [],
   "source": []
  },
  {
   "cell_type": "code",
   "execution_count": null,
   "metadata": {
    "collapsed": true
   },
   "outputs": [],
   "source": []
  }
 ],
 "metadata": {
  "kernelspec": {
   "display_name": "Python 3",
   "language": "python",
   "name": "python3"
  },
  "language_info": {
   "codemirror_mode": {
    "name": "ipython",
    "version": 3
   },
   "file_extension": ".py",
   "mimetype": "text/x-python",
   "name": "python",
   "nbconvert_exporter": "python",
   "pygments_lexer": "ipython3",
   "version": "3.6.1"
  }
 },
 "nbformat": 4,
 "nbformat_minor": 2
}
